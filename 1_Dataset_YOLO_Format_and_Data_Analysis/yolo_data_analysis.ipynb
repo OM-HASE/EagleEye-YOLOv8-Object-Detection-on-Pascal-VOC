{
 "cells": [
  {
   "cell_type": "code",
   "execution_count": 1,
   "id": "63680b8f",
   "metadata": {},
   "outputs": [],
   "source": [
    "import os\n",
    "import xml.etree.ElementTree as ET\n",
    "from glob import glob\n",
    "import pandas as pd\n",
    "from functools import reduce\n",
    "from torch.utils.data import Dataset, DataLoader"
   ]
  },
  {
   "cell_type": "code",
   "execution_count": 2,
   "id": "4f102f21",
   "metadata": {},
   "outputs": [],
   "source": [
    "def extract_text(annotation_path):\n",
    "        tree = ET.parse(annotation_path)\n",
    "        root = tree.getroot()\n",
    "\n",
    "        image_name = root.find('filename').text\n",
    "        width = root.find('size').find('width').text\n",
    "        height = root.find('size').find('height').text\n",
    "        objs = root.findall('object')\n",
    "\n",
    "        parser = []\n",
    "        for obj in objs:\n",
    "            name = obj.find('name').text\n",
    "            bndbox = obj.find('bndbox')\n",
    "            xmin = bndbox.find('xmin').text\n",
    "            xmax = bndbox.find('xmax').text\n",
    "            ymin = bndbox.find('ymin').text\n",
    "            ymax = bndbox.find('ymax').text\n",
    "            parser.append([image_name, name, width, height, xmin, xmax, ymin, ymax])\n",
    "\n",
    "        return parser\n",
    "\n",
    "\n",
    "class PascalVOCDataset(Dataset):\n",
    "    def __init__(self, root):\n",
    "        self.root = root\n",
    "        self.imgs = list(sorted(os.listdir(os.path.join(root, \"data_images\"))))\n",
    "        self.annotations = list(sorted(os.listdir(os.path.join(root, \"Annotations\"))))\n",
    "\n",
    "    def __getitem__(self, idx):\n",
    "        annotation_path = os.path.join(self.root, \"Annotations\", self.annotations[idx])\n",
    "        extract_text(annotation_path)\n",
    "        \n",
    "\n",
    "    def __len__(self):\n",
    "        return len(self.imgs)\n",
    "\n",
    "root_dir = \"1_Data_Preparation\"\n",
    "\n",
    "dataset = PascalVOCDataset(root=root_dir)\n",
    "dataloader = DataLoader(dataset)\n",
    "xmlfiles = glob(os.path.join(root_dir, \"Annotations\", \"*.xml\"))"
   ]
  },
  {
   "cell_type": "code",
   "execution_count": 3,
   "id": "44cf80cc",
   "metadata": {},
   "outputs": [],
   "source": [
    "parser_all = list(map(extract_text,xmlfiles))\n",
    "data = reduce(lambda x, y : x+y,parser_all)"
   ]
  },
  {
   "cell_type": "markdown",
   "id": "cda30843",
   "metadata": {},
   "source": [
    "Data Analysis and Conversion To YOLO Data Structure Formate"
   ]
  },
  {
   "cell_type": "code",
   "execution_count": 4,
   "id": "c3f29c80",
   "metadata": {},
   "outputs": [
    {
     "data": {
      "application/vnd.microsoft.datawrangler.viewer.v0+json": {
       "columns": [
        {
         "name": "index",
         "rawType": "int64",
         "type": "integer"
        },
        {
         "name": "Filename",
         "rawType": "object",
         "type": "string"
        },
        {
         "name": "Name",
         "rawType": "object",
         "type": "string"
        },
        {
         "name": "Width",
         "rawType": "object",
         "type": "string"
        },
        {
         "name": "Height",
         "rawType": "object",
         "type": "string"
        },
        {
         "name": "Xmin",
         "rawType": "object",
         "type": "string"
        },
        {
         "name": "Xmax",
         "rawType": "object",
         "type": "string"
        },
        {
         "name": "Ymin",
         "rawType": "object",
         "type": "string"
        },
        {
         "name": "Ymax",
         "rawType": "object",
         "type": "string"
        }
       ],
       "conversionMethod": "pd.DataFrame",
       "ref": "e208bffa-8581-4067-abb0-fc9d4cac6b88",
       "rows": [
        [
         "0",
         "2007_000027.jpg",
         "person",
         "486",
         "500",
         "174",
         "349",
         "101",
         "351"
        ],
        [
         "1",
         "2007_000032.jpg",
         "aeroplane",
         "500",
         "281",
         "104",
         "375",
         "78",
         "183"
        ],
        [
         "2",
         "2007_000032.jpg",
         "aeroplane",
         "500",
         "281",
         "133",
         "197",
         "88",
         "123"
        ],
        [
         "3",
         "2007_000032.jpg",
         "person",
         "500",
         "281",
         "195",
         "213",
         "180",
         "229"
        ],
        [
         "4",
         "2007_000032.jpg",
         "person",
         "500",
         "281",
         "26",
         "44",
         "189",
         "238"
        ]
       ],
       "shape": {
        "columns": 8,
        "rows": 5
       }
      },
      "text/html": [
       "<div>\n",
       "<style scoped>\n",
       "    .dataframe tbody tr th:only-of-type {\n",
       "        vertical-align: middle;\n",
       "    }\n",
       "\n",
       "    .dataframe tbody tr th {\n",
       "        vertical-align: top;\n",
       "    }\n",
       "\n",
       "    .dataframe thead th {\n",
       "        text-align: right;\n",
       "    }\n",
       "</style>\n",
       "<table border=\"1\" class=\"dataframe\">\n",
       "  <thead>\n",
       "    <tr style=\"text-align: right;\">\n",
       "      <th></th>\n",
       "      <th>Filename</th>\n",
       "      <th>Name</th>\n",
       "      <th>Width</th>\n",
       "      <th>Height</th>\n",
       "      <th>Xmin</th>\n",
       "      <th>Xmax</th>\n",
       "      <th>Ymin</th>\n",
       "      <th>Ymax</th>\n",
       "    </tr>\n",
       "  </thead>\n",
       "  <tbody>\n",
       "    <tr>\n",
       "      <th>0</th>\n",
       "      <td>2007_000027.jpg</td>\n",
       "      <td>person</td>\n",
       "      <td>486</td>\n",
       "      <td>500</td>\n",
       "      <td>174</td>\n",
       "      <td>349</td>\n",
       "      <td>101</td>\n",
       "      <td>351</td>\n",
       "    </tr>\n",
       "    <tr>\n",
       "      <th>1</th>\n",
       "      <td>2007_000032.jpg</td>\n",
       "      <td>aeroplane</td>\n",
       "      <td>500</td>\n",
       "      <td>281</td>\n",
       "      <td>104</td>\n",
       "      <td>375</td>\n",
       "      <td>78</td>\n",
       "      <td>183</td>\n",
       "    </tr>\n",
       "    <tr>\n",
       "      <th>2</th>\n",
       "      <td>2007_000032.jpg</td>\n",
       "      <td>aeroplane</td>\n",
       "      <td>500</td>\n",
       "      <td>281</td>\n",
       "      <td>133</td>\n",
       "      <td>197</td>\n",
       "      <td>88</td>\n",
       "      <td>123</td>\n",
       "    </tr>\n",
       "    <tr>\n",
       "      <th>3</th>\n",
       "      <td>2007_000032.jpg</td>\n",
       "      <td>person</td>\n",
       "      <td>500</td>\n",
       "      <td>281</td>\n",
       "      <td>195</td>\n",
       "      <td>213</td>\n",
       "      <td>180</td>\n",
       "      <td>229</td>\n",
       "    </tr>\n",
       "    <tr>\n",
       "      <th>4</th>\n",
       "      <td>2007_000032.jpg</td>\n",
       "      <td>person</td>\n",
       "      <td>500</td>\n",
       "      <td>281</td>\n",
       "      <td>26</td>\n",
       "      <td>44</td>\n",
       "      <td>189</td>\n",
       "      <td>238</td>\n",
       "    </tr>\n",
       "  </tbody>\n",
       "</table>\n",
       "</div>"
      ],
      "text/plain": [
       "          Filename       Name Width Height Xmin Xmax Ymin Ymax\n",
       "0  2007_000027.jpg     person   486    500  174  349  101  351\n",
       "1  2007_000032.jpg  aeroplane   500    281  104  375   78  183\n",
       "2  2007_000032.jpg  aeroplane   500    281  133  197   88  123\n",
       "3  2007_000032.jpg     person   500    281  195  213  180  229\n",
       "4  2007_000032.jpg     person   500    281   26   44  189  238"
      ]
     },
     "execution_count": 4,
     "metadata": {},
     "output_type": "execute_result"
    }
   ],
   "source": [
    "df = pd.DataFrame(data, columns = ['Filename', 'Name', 'Width', 'Height', 'Xmin', 'Xmax', 'Ymin', 'Ymax'])\n",
    "df.head()"
   ]
  },
  {
   "cell_type": "code",
   "execution_count": 5,
   "id": "98dd4d3e",
   "metadata": {},
   "outputs": [
    {
     "data": {
      "text/plain": [
       "(40138, 8)"
      ]
     },
     "execution_count": 5,
     "metadata": {},
     "output_type": "execute_result"
    }
   ],
   "source": [
    "df.shape\n"
   ]
  },
  {
   "cell_type": "code",
   "execution_count": 6,
   "id": "17742179",
   "metadata": {},
   "outputs": [
    {
     "data": {
      "text/plain": [
       "Name\n",
       "person         17401\n",
       "chair           3056\n",
       "car             2492\n",
       "dog             1598\n",
       "bottle          1561\n",
       "cat             1277\n",
       "bird            1271\n",
       "pottedplant     1202\n",
       "sheep           1084\n",
       "boat            1059\n",
       "aeroplane       1002\n",
       "tvmonitor        893\n",
       "sofa             841\n",
       "bicycle          837\n",
       "horse            803\n",
       "motorbike        801\n",
       "diningtable      800\n",
       "cow              771\n",
       "train            704\n",
       "bus              685\n",
       "Name: count, dtype: int64"
      ]
     },
     "execution_count": 6,
     "metadata": {},
     "output_type": "execute_result"
    }
   ],
   "source": [
    "df['Name'].value_counts()"
   ]
  },
  {
   "cell_type": "code",
   "execution_count": 7,
   "id": "b8686b23",
   "metadata": {},
   "outputs": [
    {
     "name": "stdout",
     "output_type": "stream",
     "text": [
      "<class 'pandas.core.frame.DataFrame'>\n",
      "RangeIndex: 40138 entries, 0 to 40137\n",
      "Data columns (total 8 columns):\n",
      " #   Column    Non-Null Count  Dtype \n",
      "---  ------    --------------  ----- \n",
      " 0   Filename  40138 non-null  object\n",
      " 1   Name      40138 non-null  object\n",
      " 2   Width     40138 non-null  object\n",
      " 3   Height    40138 non-null  object\n",
      " 4   Xmin      40138 non-null  object\n",
      " 5   Xmax      40138 non-null  object\n",
      " 6   Ymin      40138 non-null  object\n",
      " 7   Ymax      40138 non-null  object\n",
      "dtypes: object(8)\n",
      "memory usage: 2.4+ MB\n"
     ]
    }
   ],
   "source": [
    "df.info()"
   ]
  },
  {
   "cell_type": "code",
   "execution_count": 8,
   "id": "a252348a",
   "metadata": {},
   "outputs": [
    {
     "name": "stdout",
     "output_type": "stream",
     "text": [
      "<class 'pandas.core.frame.DataFrame'>\n",
      "RangeIndex: 40138 entries, 0 to 40137\n",
      "Data columns (total 8 columns):\n",
      " #   Column    Non-Null Count  Dtype  \n",
      "---  ------    --------------  -----  \n",
      " 0   Filename  40138 non-null  object \n",
      " 1   Name      40138 non-null  object \n",
      " 2   Width     40138 non-null  float64\n",
      " 3   Height    40138 non-null  float64\n",
      " 4   Xmin      40138 non-null  float64\n",
      " 5   Xmax      40138 non-null  float64\n",
      " 6   Ymin      40138 non-null  float64\n",
      " 7   Ymax      40138 non-null  float64\n",
      "dtypes: float64(6), object(2)\n",
      "memory usage: 2.4+ MB\n"
     ]
    }
   ],
   "source": [
    "cols = ['Width','Height','Xmin','Xmax','Ymin','Ymax']\n",
    "df[cols] = df[cols].astype(float)\n",
    "df.info()"
   ]
  },
  {
   "cell_type": "code",
   "execution_count": 9,
   "id": "57a8eb4e",
   "metadata": {},
   "outputs": [
    {
     "data": {
      "application/vnd.microsoft.datawrangler.viewer.v0+json": {
       "columns": [
        {
         "name": "index",
         "rawType": "int64",
         "type": "integer"
        },
        {
         "name": "Filename",
         "rawType": "object",
         "type": "string"
        },
        {
         "name": "Name",
         "rawType": "object",
         "type": "string"
        },
        {
         "name": "Width",
         "rawType": "float64",
         "type": "float"
        },
        {
         "name": "Height",
         "rawType": "float64",
         "type": "float"
        },
        {
         "name": "Xmin",
         "rawType": "float64",
         "type": "float"
        },
        {
         "name": "Xmax",
         "rawType": "float64",
         "type": "float"
        },
        {
         "name": "Ymin",
         "rawType": "float64",
         "type": "float"
        },
        {
         "name": "Ymax",
         "rawType": "float64",
         "type": "float"
        },
        {
         "name": "Center_X",
         "rawType": "float64",
         "type": "float"
        },
        {
         "name": "Center_Y",
         "rawType": "float64",
         "type": "float"
        },
        {
         "name": "Width_Conversion",
         "rawType": "float64",
         "type": "float"
        },
        {
         "name": "Height_Conversion",
         "rawType": "float64",
         "type": "float"
        }
       ],
       "conversionMethod": "pd.DataFrame",
       "ref": "f920af08-e0ca-40fa-9d3c-d5976f7002eb",
       "rows": [
        [
         "0",
         "2007_000027.jpg",
         "person",
         "486.0",
         "500.0",
         "174.0",
         "349.0",
         "101.0",
         "351.0",
         "0.5380658436213992",
         "0.452",
         "0.360082304526749",
         "0.5"
        ],
        [
         "1",
         "2007_000032.jpg",
         "aeroplane",
         "500.0",
         "281.0",
         "104.0",
         "375.0",
         "78.0",
         "183.0",
         "0.479",
         "0.46441281138790036",
         "0.542",
         "0.3736654804270463"
        ],
        [
         "2",
         "2007_000032.jpg",
         "aeroplane",
         "500.0",
         "281.0",
         "133.0",
         "197.0",
         "88.0",
         "123.0",
         "0.33",
         "0.37544483985765126",
         "0.128",
         "0.12455516014234876"
        ],
        [
         "3",
         "2007_000032.jpg",
         "person",
         "500.0",
         "281.0",
         "195.0",
         "213.0",
         "180.0",
         "229.0",
         "0.408",
         "0.7277580071174378",
         "0.036",
         "0.17437722419928825"
        ],
        [
         "4",
         "2007_000032.jpg",
         "person",
         "500.0",
         "281.0",
         "26.0",
         "44.0",
         "189.0",
         "238.0",
         "0.07",
         "0.7597864768683275",
         "0.036",
         "0.17437722419928825"
        ]
       ],
       "shape": {
        "columns": 12,
        "rows": 5
       }
      },
      "text/html": [
       "<div>\n",
       "<style scoped>\n",
       "    .dataframe tbody tr th:only-of-type {\n",
       "        vertical-align: middle;\n",
       "    }\n",
       "\n",
       "    .dataframe tbody tr th {\n",
       "        vertical-align: top;\n",
       "    }\n",
       "\n",
       "    .dataframe thead th {\n",
       "        text-align: right;\n",
       "    }\n",
       "</style>\n",
       "<table border=\"1\" class=\"dataframe\">\n",
       "  <thead>\n",
       "    <tr style=\"text-align: right;\">\n",
       "      <th></th>\n",
       "      <th>Filename</th>\n",
       "      <th>Name</th>\n",
       "      <th>Width</th>\n",
       "      <th>Height</th>\n",
       "      <th>Xmin</th>\n",
       "      <th>Xmax</th>\n",
       "      <th>Ymin</th>\n",
       "      <th>Ymax</th>\n",
       "      <th>Center_X</th>\n",
       "      <th>Center_Y</th>\n",
       "      <th>Width_Conversion</th>\n",
       "      <th>Height_Conversion</th>\n",
       "    </tr>\n",
       "  </thead>\n",
       "  <tbody>\n",
       "    <tr>\n",
       "      <th>0</th>\n",
       "      <td>2007_000027.jpg</td>\n",
       "      <td>person</td>\n",
       "      <td>486.0</td>\n",
       "      <td>500.0</td>\n",
       "      <td>174.0</td>\n",
       "      <td>349.0</td>\n",
       "      <td>101.0</td>\n",
       "      <td>351.0</td>\n",
       "      <td>0.538066</td>\n",
       "      <td>0.452000</td>\n",
       "      <td>0.360082</td>\n",
       "      <td>0.500000</td>\n",
       "    </tr>\n",
       "    <tr>\n",
       "      <th>1</th>\n",
       "      <td>2007_000032.jpg</td>\n",
       "      <td>aeroplane</td>\n",
       "      <td>500.0</td>\n",
       "      <td>281.0</td>\n",
       "      <td>104.0</td>\n",
       "      <td>375.0</td>\n",
       "      <td>78.0</td>\n",
       "      <td>183.0</td>\n",
       "      <td>0.479000</td>\n",
       "      <td>0.464413</td>\n",
       "      <td>0.542000</td>\n",
       "      <td>0.373665</td>\n",
       "    </tr>\n",
       "    <tr>\n",
       "      <th>2</th>\n",
       "      <td>2007_000032.jpg</td>\n",
       "      <td>aeroplane</td>\n",
       "      <td>500.0</td>\n",
       "      <td>281.0</td>\n",
       "      <td>133.0</td>\n",
       "      <td>197.0</td>\n",
       "      <td>88.0</td>\n",
       "      <td>123.0</td>\n",
       "      <td>0.330000</td>\n",
       "      <td>0.375445</td>\n",
       "      <td>0.128000</td>\n",
       "      <td>0.124555</td>\n",
       "    </tr>\n",
       "    <tr>\n",
       "      <th>3</th>\n",
       "      <td>2007_000032.jpg</td>\n",
       "      <td>person</td>\n",
       "      <td>500.0</td>\n",
       "      <td>281.0</td>\n",
       "      <td>195.0</td>\n",
       "      <td>213.0</td>\n",
       "      <td>180.0</td>\n",
       "      <td>229.0</td>\n",
       "      <td>0.408000</td>\n",
       "      <td>0.727758</td>\n",
       "      <td>0.036000</td>\n",
       "      <td>0.174377</td>\n",
       "    </tr>\n",
       "    <tr>\n",
       "      <th>4</th>\n",
       "      <td>2007_000032.jpg</td>\n",
       "      <td>person</td>\n",
       "      <td>500.0</td>\n",
       "      <td>281.0</td>\n",
       "      <td>26.0</td>\n",
       "      <td>44.0</td>\n",
       "      <td>189.0</td>\n",
       "      <td>238.0</td>\n",
       "      <td>0.070000</td>\n",
       "      <td>0.759786</td>\n",
       "      <td>0.036000</td>\n",
       "      <td>0.174377</td>\n",
       "    </tr>\n",
       "  </tbody>\n",
       "</table>\n",
       "</div>"
      ],
      "text/plain": [
       "          Filename       Name  Width  Height   Xmin   Xmax   Ymin   Ymax  \\\n",
       "0  2007_000027.jpg     person  486.0   500.0  174.0  349.0  101.0  351.0   \n",
       "1  2007_000032.jpg  aeroplane  500.0   281.0  104.0  375.0   78.0  183.0   \n",
       "2  2007_000032.jpg  aeroplane  500.0   281.0  133.0  197.0   88.0  123.0   \n",
       "3  2007_000032.jpg     person  500.0   281.0  195.0  213.0  180.0  229.0   \n",
       "4  2007_000032.jpg     person  500.0   281.0   26.0   44.0  189.0  238.0   \n",
       "\n",
       "   Center_X  Center_Y  Width_Conversion  Height_Conversion  \n",
       "0  0.538066  0.452000          0.360082           0.500000  \n",
       "1  0.479000  0.464413          0.542000           0.373665  \n",
       "2  0.330000  0.375445          0.128000           0.124555  \n",
       "3  0.408000  0.727758          0.036000           0.174377  \n",
       "4  0.070000  0.759786          0.036000           0.174377  "
      ]
     },
     "execution_count": 9,
     "metadata": {},
     "output_type": "execute_result"
    }
   ],
   "source": [
    "df['Center_X'] = ((df['Xmax']+df['Xmin'])/2)/df['Width']\n",
    "df['Center_Y'] = ((df['Ymax']+df['Ymin'])/2)/df['Height']\n",
    "\n",
    "df['Width_Conversion'] = (df['Xmax']-df['Xmin'])/df['Width']\n",
    " \n",
    "df['Height_Conversion'] = (df['Ymax']-df['Ymin'])/df['Height']\n",
    "\n",
    "df.head()"
   ]
  },
  {
   "cell_type": "markdown",
   "id": "9dcde7ce",
   "metadata": {},
   "source": [
    "Split Data into Training and Test9ing"
   ]
  },
  {
   "cell_type": "code",
   "execution_count": 10,
   "id": "d80e22fa",
   "metadata": {},
   "outputs": [
    {
     "data": {
      "text/plain": [
       "array(['2007_000027.jpg', '2007_000032.jpg', '2007_000033.jpg', ...,\n",
       "       '2012_004329.jpg', '2012_004330.jpg', '2012_004331.jpg'],\n",
       "      dtype=object)"
      ]
     },
     "execution_count": 10,
     "metadata": {},
     "output_type": "execute_result"
    }
   ],
   "source": [
    "images = df['Filename'].unique()\n",
    "len(images)\n",
    "images"
   ]
  },
  {
   "cell_type": "code",
   "execution_count": 11,
   "id": "b95574a0",
   "metadata": {},
   "outputs": [
    {
     "data": {
      "text/plain": [
       "(13700, 3425)"
      ]
     },
     "execution_count": 11,
     "metadata": {},
     "output_type": "execute_result"
    }
   ],
   "source": [
    "# 80% train and 20% test\n",
    "\n",
    "img_df = pd.DataFrame(images,columns=['Filename'])\n",
    "\n",
    "Img_Train = tuple(img_df.sample(frac=0.8)['Filename']) # shuffle and pick 80% of images\n",
    "Img_Test = tuple(img_df.query(f'Filename not in {Img_Train}')['Filename']) # take rest 20% images\n",
    "\n",
    "len(Img_Train), len(Img_Test)"
   ]
  },
  {
   "cell_type": "code",
   "execution_count": 12,
   "id": "52250976",
   "metadata": {},
   "outputs": [],
   "source": [
    "train_df = df.query(f'Filename in {Img_Train}')\n",
    "test_df = df.query(f'Filename in {Img_Test}')\n"
   ]
  },
  {
   "cell_type": "code",
   "execution_count": 13,
   "id": "f73df518",
   "metadata": {},
   "outputs": [
    {
     "data": {
      "application/vnd.microsoft.datawrangler.viewer.v0+json": {
       "columns": [
        {
         "name": "index",
         "rawType": "int64",
         "type": "integer"
        },
        {
         "name": "Filename",
         "rawType": "object",
         "type": "string"
        },
        {
         "name": "Name",
         "rawType": "object",
         "type": "string"
        },
        {
         "name": "Width",
         "rawType": "float64",
         "type": "float"
        },
        {
         "name": "Height",
         "rawType": "float64",
         "type": "float"
        },
        {
         "name": "Xmin",
         "rawType": "float64",
         "type": "float"
        },
        {
         "name": "Xmax",
         "rawType": "float64",
         "type": "float"
        },
        {
         "name": "Ymin",
         "rawType": "float64",
         "type": "float"
        },
        {
         "name": "Ymax",
         "rawType": "float64",
         "type": "float"
        },
        {
         "name": "Center_X",
         "rawType": "float64",
         "type": "float"
        },
        {
         "name": "Center_Y",
         "rawType": "float64",
         "type": "float"
        },
        {
         "name": "Width_Conversion",
         "rawType": "float64",
         "type": "float"
        },
        {
         "name": "Height_Conversion",
         "rawType": "float64",
         "type": "float"
        }
       ],
       "conversionMethod": "pd.DataFrame",
       "ref": "d71c5c31-a86a-4047-8c7d-f55f08038e9a",
       "rows": [
        [
         "0",
         "2007_000027.jpg",
         "person",
         "486.0",
         "500.0",
         "174.0",
         "349.0",
         "101.0",
         "351.0",
         "0.5380658436213992",
         "0.452",
         "0.360082304526749",
         "0.5"
        ],
        [
         "1",
         "2007_000032.jpg",
         "aeroplane",
         "500.0",
         "281.0",
         "104.0",
         "375.0",
         "78.0",
         "183.0",
         "0.479",
         "0.46441281138790036",
         "0.542",
         "0.3736654804270463"
        ],
        [
         "2",
         "2007_000032.jpg",
         "aeroplane",
         "500.0",
         "281.0",
         "133.0",
         "197.0",
         "88.0",
         "123.0",
         "0.33",
         "0.37544483985765126",
         "0.128",
         "0.12455516014234876"
        ],
        [
         "3",
         "2007_000032.jpg",
         "person",
         "500.0",
         "281.0",
         "195.0",
         "213.0",
         "180.0",
         "229.0",
         "0.408",
         "0.7277580071174378",
         "0.036",
         "0.17437722419928825"
        ],
        [
         "4",
         "2007_000032.jpg",
         "person",
         "500.0",
         "281.0",
         "26.0",
         "44.0",
         "189.0",
         "238.0",
         "0.07",
         "0.7597864768683275",
         "0.036",
         "0.17437722419928825"
        ]
       ],
       "shape": {
        "columns": 12,
        "rows": 5
       }
      },
      "text/html": [
       "<div>\n",
       "<style scoped>\n",
       "    .dataframe tbody tr th:only-of-type {\n",
       "        vertical-align: middle;\n",
       "    }\n",
       "\n",
       "    .dataframe tbody tr th {\n",
       "        vertical-align: top;\n",
       "    }\n",
       "\n",
       "    .dataframe thead th {\n",
       "        text-align: right;\n",
       "    }\n",
       "</style>\n",
       "<table border=\"1\" class=\"dataframe\">\n",
       "  <thead>\n",
       "    <tr style=\"text-align: right;\">\n",
       "      <th></th>\n",
       "      <th>Filename</th>\n",
       "      <th>Name</th>\n",
       "      <th>Width</th>\n",
       "      <th>Height</th>\n",
       "      <th>Xmin</th>\n",
       "      <th>Xmax</th>\n",
       "      <th>Ymin</th>\n",
       "      <th>Ymax</th>\n",
       "      <th>Center_X</th>\n",
       "      <th>Center_Y</th>\n",
       "      <th>Width_Conversion</th>\n",
       "      <th>Height_Conversion</th>\n",
       "    </tr>\n",
       "  </thead>\n",
       "  <tbody>\n",
       "    <tr>\n",
       "      <th>0</th>\n",
       "      <td>2007_000027.jpg</td>\n",
       "      <td>person</td>\n",
       "      <td>486.0</td>\n",
       "      <td>500.0</td>\n",
       "      <td>174.0</td>\n",
       "      <td>349.0</td>\n",
       "      <td>101.0</td>\n",
       "      <td>351.0</td>\n",
       "      <td>0.538066</td>\n",
       "      <td>0.452000</td>\n",
       "      <td>0.360082</td>\n",
       "      <td>0.500000</td>\n",
       "    </tr>\n",
       "    <tr>\n",
       "      <th>1</th>\n",
       "      <td>2007_000032.jpg</td>\n",
       "      <td>aeroplane</td>\n",
       "      <td>500.0</td>\n",
       "      <td>281.0</td>\n",
       "      <td>104.0</td>\n",
       "      <td>375.0</td>\n",
       "      <td>78.0</td>\n",
       "      <td>183.0</td>\n",
       "      <td>0.479000</td>\n",
       "      <td>0.464413</td>\n",
       "      <td>0.542000</td>\n",
       "      <td>0.373665</td>\n",
       "    </tr>\n",
       "    <tr>\n",
       "      <th>2</th>\n",
       "      <td>2007_000032.jpg</td>\n",
       "      <td>aeroplane</td>\n",
       "      <td>500.0</td>\n",
       "      <td>281.0</td>\n",
       "      <td>133.0</td>\n",
       "      <td>197.0</td>\n",
       "      <td>88.0</td>\n",
       "      <td>123.0</td>\n",
       "      <td>0.330000</td>\n",
       "      <td>0.375445</td>\n",
       "      <td>0.128000</td>\n",
       "      <td>0.124555</td>\n",
       "    </tr>\n",
       "    <tr>\n",
       "      <th>3</th>\n",
       "      <td>2007_000032.jpg</td>\n",
       "      <td>person</td>\n",
       "      <td>500.0</td>\n",
       "      <td>281.0</td>\n",
       "      <td>195.0</td>\n",
       "      <td>213.0</td>\n",
       "      <td>180.0</td>\n",
       "      <td>229.0</td>\n",
       "      <td>0.408000</td>\n",
       "      <td>0.727758</td>\n",
       "      <td>0.036000</td>\n",
       "      <td>0.174377</td>\n",
       "    </tr>\n",
       "    <tr>\n",
       "      <th>4</th>\n",
       "      <td>2007_000032.jpg</td>\n",
       "      <td>person</td>\n",
       "      <td>500.0</td>\n",
       "      <td>281.0</td>\n",
       "      <td>26.0</td>\n",
       "      <td>44.0</td>\n",
       "      <td>189.0</td>\n",
       "      <td>238.0</td>\n",
       "      <td>0.070000</td>\n",
       "      <td>0.759786</td>\n",
       "      <td>0.036000</td>\n",
       "      <td>0.174377</td>\n",
       "    </tr>\n",
       "  </tbody>\n",
       "</table>\n",
       "</div>"
      ],
      "text/plain": [
       "          Filename       Name  Width  Height   Xmin   Xmax   Ymin   Ymax  \\\n",
       "0  2007_000027.jpg     person  486.0   500.0  174.0  349.0  101.0  351.0   \n",
       "1  2007_000032.jpg  aeroplane  500.0   281.0  104.0  375.0   78.0  183.0   \n",
       "2  2007_000032.jpg  aeroplane  500.0   281.0  133.0  197.0   88.0  123.0   \n",
       "3  2007_000032.jpg     person  500.0   281.0  195.0  213.0  180.0  229.0   \n",
       "4  2007_000032.jpg     person  500.0   281.0   26.0   44.0  189.0  238.0   \n",
       "\n",
       "   Center_X  Center_Y  Width_Conversion  Height_Conversion  \n",
       "0  0.538066  0.452000          0.360082           0.500000  \n",
       "1  0.479000  0.464413          0.542000           0.373665  \n",
       "2  0.330000  0.375445          0.128000           0.124555  \n",
       "3  0.408000  0.727758          0.036000           0.174377  \n",
       "4  0.070000  0.759786          0.036000           0.174377  "
      ]
     },
     "execution_count": 13,
     "metadata": {},
     "output_type": "execute_result"
    }
   ],
   "source": [
    "train_df.head()"
   ]
  },
  {
   "cell_type": "code",
   "execution_count": 14,
   "id": "8a102450",
   "metadata": {},
   "outputs": [
    {
     "data": {
      "application/vnd.microsoft.datawrangler.viewer.v0+json": {
       "columns": [
        {
         "name": "index",
         "rawType": "int64",
         "type": "integer"
        },
        {
         "name": "Filename",
         "rawType": "object",
         "type": "string"
        },
        {
         "name": "Name",
         "rawType": "object",
         "type": "string"
        },
        {
         "name": "Width",
         "rawType": "float64",
         "type": "float"
        },
        {
         "name": "Height",
         "rawType": "float64",
         "type": "float"
        },
        {
         "name": "Xmin",
         "rawType": "float64",
         "type": "float"
        },
        {
         "name": "Xmax",
         "rawType": "float64",
         "type": "float"
        },
        {
         "name": "Ymin",
         "rawType": "float64",
         "type": "float"
        },
        {
         "name": "Ymax",
         "rawType": "float64",
         "type": "float"
        },
        {
         "name": "Center_X",
         "rawType": "float64",
         "type": "float"
        },
        {
         "name": "Center_Y",
         "rawType": "float64",
         "type": "float"
        },
        {
         "name": "Width_Conversion",
         "rawType": "float64",
         "type": "float"
        },
        {
         "name": "Height_Conversion",
         "rawType": "float64",
         "type": "float"
        }
       ],
       "conversionMethod": "pd.DataFrame",
       "ref": "212835ef-d038-4dfc-b521-bfd2c799dc6b",
       "rows": [
        [
         "13",
         "2007_000063.jpg",
         "dog",
         "500.0",
         "375.0",
         "123.0",
         "379.0",
         "115.0",
         "275.0",
         "0.502",
         "0.52",
         "0.512",
         "0.4266666666666667"
        ],
        [
         "14",
         "2007_000063.jpg",
         "chair",
         "500.0",
         "375.0",
         "75.0",
         "428.0",
         "1.0",
         "375.0",
         "0.503",
         "0.5013333333333333",
         "0.706",
         "0.9973333333333333"
        ],
        [
         "19",
         "2007_000129.jpg",
         "bicycle",
         "334.0",
         "500.0",
         "70.0",
         "255.0",
         "202.0",
         "500.0",
         "0.4865269461077844",
         "0.702",
         "0.5538922155688623",
         "0.596"
        ],
        [
         "20",
         "2007_000129.jpg",
         "bicycle",
         "334.0",
         "500.0",
         "251.0",
         "334.0",
         "242.0",
         "500.0",
         "0.875748502994012",
         "0.742",
         "0.24850299401197604",
         "0.516"
        ],
        [
         "21",
         "2007_000129.jpg",
         "bicycle",
         "334.0",
         "500.0",
         "1.0",
         "67.0",
         "144.0",
         "436.0",
         "0.10179640718562874",
         "0.58",
         "0.19760479041916168",
         "0.584"
        ]
       ],
       "shape": {
        "columns": 12,
        "rows": 5
       }
      },
      "text/html": [
       "<div>\n",
       "<style scoped>\n",
       "    .dataframe tbody tr th:only-of-type {\n",
       "        vertical-align: middle;\n",
       "    }\n",
       "\n",
       "    .dataframe tbody tr th {\n",
       "        vertical-align: top;\n",
       "    }\n",
       "\n",
       "    .dataframe thead th {\n",
       "        text-align: right;\n",
       "    }\n",
       "</style>\n",
       "<table border=\"1\" class=\"dataframe\">\n",
       "  <thead>\n",
       "    <tr style=\"text-align: right;\">\n",
       "      <th></th>\n",
       "      <th>Filename</th>\n",
       "      <th>Name</th>\n",
       "      <th>Width</th>\n",
       "      <th>Height</th>\n",
       "      <th>Xmin</th>\n",
       "      <th>Xmax</th>\n",
       "      <th>Ymin</th>\n",
       "      <th>Ymax</th>\n",
       "      <th>Center_X</th>\n",
       "      <th>Center_Y</th>\n",
       "      <th>Width_Conversion</th>\n",
       "      <th>Height_Conversion</th>\n",
       "    </tr>\n",
       "  </thead>\n",
       "  <tbody>\n",
       "    <tr>\n",
       "      <th>13</th>\n",
       "      <td>2007_000063.jpg</td>\n",
       "      <td>dog</td>\n",
       "      <td>500.0</td>\n",
       "      <td>375.0</td>\n",
       "      <td>123.0</td>\n",
       "      <td>379.0</td>\n",
       "      <td>115.0</td>\n",
       "      <td>275.0</td>\n",
       "      <td>0.502000</td>\n",
       "      <td>0.520000</td>\n",
       "      <td>0.512000</td>\n",
       "      <td>0.426667</td>\n",
       "    </tr>\n",
       "    <tr>\n",
       "      <th>14</th>\n",
       "      <td>2007_000063.jpg</td>\n",
       "      <td>chair</td>\n",
       "      <td>500.0</td>\n",
       "      <td>375.0</td>\n",
       "      <td>75.0</td>\n",
       "      <td>428.0</td>\n",
       "      <td>1.0</td>\n",
       "      <td>375.0</td>\n",
       "      <td>0.503000</td>\n",
       "      <td>0.501333</td>\n",
       "      <td>0.706000</td>\n",
       "      <td>0.997333</td>\n",
       "    </tr>\n",
       "    <tr>\n",
       "      <th>19</th>\n",
       "      <td>2007_000129.jpg</td>\n",
       "      <td>bicycle</td>\n",
       "      <td>334.0</td>\n",
       "      <td>500.0</td>\n",
       "      <td>70.0</td>\n",
       "      <td>255.0</td>\n",
       "      <td>202.0</td>\n",
       "      <td>500.0</td>\n",
       "      <td>0.486527</td>\n",
       "      <td>0.702000</td>\n",
       "      <td>0.553892</td>\n",
       "      <td>0.596000</td>\n",
       "    </tr>\n",
       "    <tr>\n",
       "      <th>20</th>\n",
       "      <td>2007_000129.jpg</td>\n",
       "      <td>bicycle</td>\n",
       "      <td>334.0</td>\n",
       "      <td>500.0</td>\n",
       "      <td>251.0</td>\n",
       "      <td>334.0</td>\n",
       "      <td>242.0</td>\n",
       "      <td>500.0</td>\n",
       "      <td>0.875749</td>\n",
       "      <td>0.742000</td>\n",
       "      <td>0.248503</td>\n",
       "      <td>0.516000</td>\n",
       "    </tr>\n",
       "    <tr>\n",
       "      <th>21</th>\n",
       "      <td>2007_000129.jpg</td>\n",
       "      <td>bicycle</td>\n",
       "      <td>334.0</td>\n",
       "      <td>500.0</td>\n",
       "      <td>1.0</td>\n",
       "      <td>67.0</td>\n",
       "      <td>144.0</td>\n",
       "      <td>436.0</td>\n",
       "      <td>0.101796</td>\n",
       "      <td>0.580000</td>\n",
       "      <td>0.197605</td>\n",
       "      <td>0.584000</td>\n",
       "    </tr>\n",
       "  </tbody>\n",
       "</table>\n",
       "</div>"
      ],
      "text/plain": [
       "           Filename     Name  Width  Height   Xmin   Xmax   Ymin   Ymax  \\\n",
       "13  2007_000063.jpg      dog  500.0   375.0  123.0  379.0  115.0  275.0   \n",
       "14  2007_000063.jpg    chair  500.0   375.0   75.0  428.0    1.0  375.0   \n",
       "19  2007_000129.jpg  bicycle  334.0   500.0   70.0  255.0  202.0  500.0   \n",
       "20  2007_000129.jpg  bicycle  334.0   500.0  251.0  334.0  242.0  500.0   \n",
       "21  2007_000129.jpg  bicycle  334.0   500.0    1.0   67.0  144.0  436.0   \n",
       "\n",
       "    Center_X  Center_Y  Width_Conversion  Height_Conversion  \n",
       "13  0.502000  0.520000          0.512000           0.426667  \n",
       "14  0.503000  0.501333          0.706000           0.997333  \n",
       "19  0.486527  0.702000          0.553892           0.596000  \n",
       "20  0.875749  0.742000          0.248503           0.516000  \n",
       "21  0.101796  0.580000          0.197605           0.584000  "
      ]
     },
     "execution_count": 14,
     "metadata": {},
     "output_type": "execute_result"
    }
   ],
   "source": [
    "test_df.head()"
   ]
  },
  {
   "cell_type": "markdown",
   "id": "4fcd099d",
   "metadata": {},
   "source": [
    "Assign Id Number to Object Names"
   ]
  },
  {
   "cell_type": "code",
   "execution_count": 15,
   "id": "af7172bd",
   "metadata": {},
   "outputs": [],
   "source": [
    "def label_encoding(x):\n",
    "    labels = {'person':0, 'chair':1, 'car':2, 'dog':3, 'bottle':4, 'cat':5, 'bird':6, 'pottedplant':7, 'sheep':8, 'boat':9, 'aeroplane':10, 'tvmonitor':11, 'sofa':12, 'bicycle':13, 'horse':14, 'motorbike':15, 'diningtable':16, 'cow':17, 'train':18, 'bus':19 }\n",
    "\n",
    "    return labels[x]"
   ]
  },
  {
   "cell_type": "code",
   "execution_count": 16,
   "id": "ae2a80c7",
   "metadata": {},
   "outputs": [
    {
     "name": "stderr",
     "output_type": "stream",
     "text": [
      "C:\\Users\\omhas\\AppData\\Local\\Temp\\ipykernel_27584\\877258179.py:1: SettingWithCopyWarning: \n",
      "A value is trying to be set on a copy of a slice from a DataFrame.\n",
      "Try using .loc[row_indexer,col_indexer] = value instead\n",
      "\n",
      "See the caveats in the documentation: https://pandas.pydata.org/pandas-docs/stable/user_guide/indexing.html#returning-a-view-versus-a-copy\n",
      "  train_df.loc[:, 'Id'] = train_df['Name'].apply(label_encoding)\n",
      "C:\\Users\\omhas\\AppData\\Local\\Temp\\ipykernel_27584\\877258179.py:2: SettingWithCopyWarning: \n",
      "A value is trying to be set on a copy of a slice from a DataFrame.\n",
      "Try using .loc[row_indexer,col_indexer] = value instead\n",
      "\n",
      "See the caveats in the documentation: https://pandas.pydata.org/pandas-docs/stable/user_guide/indexing.html#returning-a-view-versus-a-copy\n",
      "  test_df.loc[:, 'Id'] = test_df['Name'].apply(label_encoding)\n"
     ]
    }
   ],
   "source": [
    "train_df.loc[:, 'Id'] = train_df['Name'].apply(label_encoding)\n",
    "test_df.loc[:, 'Id'] = test_df['Name'].apply(label_encoding)"
   ]
  },
  {
   "cell_type": "code",
   "execution_count": 17,
   "id": "f4e5c73a",
   "metadata": {},
   "outputs": [
    {
     "data": {
      "application/vnd.microsoft.datawrangler.viewer.v0+json": {
       "columns": [
        {
         "name": "index",
         "rawType": "int64",
         "type": "integer"
        },
        {
         "name": "Filename",
         "rawType": "object",
         "type": "string"
        },
        {
         "name": "Name",
         "rawType": "object",
         "type": "string"
        },
        {
         "name": "Width",
         "rawType": "float64",
         "type": "float"
        },
        {
         "name": "Height",
         "rawType": "float64",
         "type": "float"
        },
        {
         "name": "Xmin",
         "rawType": "float64",
         "type": "float"
        },
        {
         "name": "Xmax",
         "rawType": "float64",
         "type": "float"
        },
        {
         "name": "Ymin",
         "rawType": "float64",
         "type": "float"
        },
        {
         "name": "Ymax",
         "rawType": "float64",
         "type": "float"
        },
        {
         "name": "Center_X",
         "rawType": "float64",
         "type": "float"
        },
        {
         "name": "Center_Y",
         "rawType": "float64",
         "type": "float"
        },
        {
         "name": "Width_Conversion",
         "rawType": "float64",
         "type": "float"
        },
        {
         "name": "Height_Conversion",
         "rawType": "float64",
         "type": "float"
        },
        {
         "name": "Id",
         "rawType": "int64",
         "type": "integer"
        }
       ],
       "conversionMethod": "pd.DataFrame",
       "ref": "8f96d5f9-02dd-4563-a209-e87aaac4f9ba",
       "rows": [
        [
         "0",
         "2007_000027.jpg",
         "person",
         "486.0",
         "500.0",
         "174.0",
         "349.0",
         "101.0",
         "351.0",
         "0.5380658436213992",
         "0.452",
         "0.360082304526749",
         "0.5",
         "0"
        ],
        [
         "1",
         "2007_000032.jpg",
         "aeroplane",
         "500.0",
         "281.0",
         "104.0",
         "375.0",
         "78.0",
         "183.0",
         "0.479",
         "0.46441281138790036",
         "0.542",
         "0.3736654804270463",
         "10"
        ],
        [
         "2",
         "2007_000032.jpg",
         "aeroplane",
         "500.0",
         "281.0",
         "133.0",
         "197.0",
         "88.0",
         "123.0",
         "0.33",
         "0.37544483985765126",
         "0.128",
         "0.12455516014234876",
         "10"
        ],
        [
         "3",
         "2007_000032.jpg",
         "person",
         "500.0",
         "281.0",
         "195.0",
         "213.0",
         "180.0",
         "229.0",
         "0.408",
         "0.7277580071174378",
         "0.036",
         "0.17437722419928825",
         "0"
        ],
        [
         "4",
         "2007_000032.jpg",
         "person",
         "500.0",
         "281.0",
         "26.0",
         "44.0",
         "189.0",
         "238.0",
         "0.07",
         "0.7597864768683275",
         "0.036",
         "0.17437722419928825",
         "0"
        ]
       ],
       "shape": {
        "columns": 13,
        "rows": 5
       }
      },
      "text/html": [
       "<div>\n",
       "<style scoped>\n",
       "    .dataframe tbody tr th:only-of-type {\n",
       "        vertical-align: middle;\n",
       "    }\n",
       "\n",
       "    .dataframe tbody tr th {\n",
       "        vertical-align: top;\n",
       "    }\n",
       "\n",
       "    .dataframe thead th {\n",
       "        text-align: right;\n",
       "    }\n",
       "</style>\n",
       "<table border=\"1\" class=\"dataframe\">\n",
       "  <thead>\n",
       "    <tr style=\"text-align: right;\">\n",
       "      <th></th>\n",
       "      <th>Filename</th>\n",
       "      <th>Name</th>\n",
       "      <th>Width</th>\n",
       "      <th>Height</th>\n",
       "      <th>Xmin</th>\n",
       "      <th>Xmax</th>\n",
       "      <th>Ymin</th>\n",
       "      <th>Ymax</th>\n",
       "      <th>Center_X</th>\n",
       "      <th>Center_Y</th>\n",
       "      <th>Width_Conversion</th>\n",
       "      <th>Height_Conversion</th>\n",
       "      <th>Id</th>\n",
       "    </tr>\n",
       "  </thead>\n",
       "  <tbody>\n",
       "    <tr>\n",
       "      <th>0</th>\n",
       "      <td>2007_000027.jpg</td>\n",
       "      <td>person</td>\n",
       "      <td>486.0</td>\n",
       "      <td>500.0</td>\n",
       "      <td>174.0</td>\n",
       "      <td>349.0</td>\n",
       "      <td>101.0</td>\n",
       "      <td>351.0</td>\n",
       "      <td>0.538066</td>\n",
       "      <td>0.452000</td>\n",
       "      <td>0.360082</td>\n",
       "      <td>0.500000</td>\n",
       "      <td>0</td>\n",
       "    </tr>\n",
       "    <tr>\n",
       "      <th>1</th>\n",
       "      <td>2007_000032.jpg</td>\n",
       "      <td>aeroplane</td>\n",
       "      <td>500.0</td>\n",
       "      <td>281.0</td>\n",
       "      <td>104.0</td>\n",
       "      <td>375.0</td>\n",
       "      <td>78.0</td>\n",
       "      <td>183.0</td>\n",
       "      <td>0.479000</td>\n",
       "      <td>0.464413</td>\n",
       "      <td>0.542000</td>\n",
       "      <td>0.373665</td>\n",
       "      <td>10</td>\n",
       "    </tr>\n",
       "    <tr>\n",
       "      <th>2</th>\n",
       "      <td>2007_000032.jpg</td>\n",
       "      <td>aeroplane</td>\n",
       "      <td>500.0</td>\n",
       "      <td>281.0</td>\n",
       "      <td>133.0</td>\n",
       "      <td>197.0</td>\n",
       "      <td>88.0</td>\n",
       "      <td>123.0</td>\n",
       "      <td>0.330000</td>\n",
       "      <td>0.375445</td>\n",
       "      <td>0.128000</td>\n",
       "      <td>0.124555</td>\n",
       "      <td>10</td>\n",
       "    </tr>\n",
       "    <tr>\n",
       "      <th>3</th>\n",
       "      <td>2007_000032.jpg</td>\n",
       "      <td>person</td>\n",
       "      <td>500.0</td>\n",
       "      <td>281.0</td>\n",
       "      <td>195.0</td>\n",
       "      <td>213.0</td>\n",
       "      <td>180.0</td>\n",
       "      <td>229.0</td>\n",
       "      <td>0.408000</td>\n",
       "      <td>0.727758</td>\n",
       "      <td>0.036000</td>\n",
       "      <td>0.174377</td>\n",
       "      <td>0</td>\n",
       "    </tr>\n",
       "    <tr>\n",
       "      <th>4</th>\n",
       "      <td>2007_000032.jpg</td>\n",
       "      <td>person</td>\n",
       "      <td>500.0</td>\n",
       "      <td>281.0</td>\n",
       "      <td>26.0</td>\n",
       "      <td>44.0</td>\n",
       "      <td>189.0</td>\n",
       "      <td>238.0</td>\n",
       "      <td>0.070000</td>\n",
       "      <td>0.759786</td>\n",
       "      <td>0.036000</td>\n",
       "      <td>0.174377</td>\n",
       "      <td>0</td>\n",
       "    </tr>\n",
       "  </tbody>\n",
       "</table>\n",
       "</div>"
      ],
      "text/plain": [
       "          Filename       Name  Width  Height   Xmin   Xmax   Ymin   Ymax  \\\n",
       "0  2007_000027.jpg     person  486.0   500.0  174.0  349.0  101.0  351.0   \n",
       "1  2007_000032.jpg  aeroplane  500.0   281.0  104.0  375.0   78.0  183.0   \n",
       "2  2007_000032.jpg  aeroplane  500.0   281.0  133.0  197.0   88.0  123.0   \n",
       "3  2007_000032.jpg     person  500.0   281.0  195.0  213.0  180.0  229.0   \n",
       "4  2007_000032.jpg     person  500.0   281.0   26.0   44.0  189.0  238.0   \n",
       "\n",
       "   Center_X  Center_Y  Width_Conversion  Height_Conversion  Id  \n",
       "0  0.538066  0.452000          0.360082           0.500000   0  \n",
       "1  0.479000  0.464413          0.542000           0.373665  10  \n",
       "2  0.330000  0.375445          0.128000           0.124555  10  \n",
       "3  0.408000  0.727758          0.036000           0.174377   0  \n",
       "4  0.070000  0.759786          0.036000           0.174377   0  "
      ]
     },
     "execution_count": 17,
     "metadata": {},
     "output_type": "execute_result"
    }
   ],
   "source": [
    "train_df.head()"
   ]
  },
  {
   "cell_type": "code",
   "execution_count": 18,
   "id": "48faa9f4",
   "metadata": {},
   "outputs": [
    {
     "data": {
      "application/vnd.microsoft.datawrangler.viewer.v0+json": {
       "columns": [
        {
         "name": "index",
         "rawType": "int64",
         "type": "integer"
        },
        {
         "name": "Filename",
         "rawType": "object",
         "type": "string"
        },
        {
         "name": "Name",
         "rawType": "object",
         "type": "string"
        },
        {
         "name": "Width",
         "rawType": "float64",
         "type": "float"
        },
        {
         "name": "Height",
         "rawType": "float64",
         "type": "float"
        },
        {
         "name": "Xmin",
         "rawType": "float64",
         "type": "float"
        },
        {
         "name": "Xmax",
         "rawType": "float64",
         "type": "float"
        },
        {
         "name": "Ymin",
         "rawType": "float64",
         "type": "float"
        },
        {
         "name": "Ymax",
         "rawType": "float64",
         "type": "float"
        },
        {
         "name": "Center_X",
         "rawType": "float64",
         "type": "float"
        },
        {
         "name": "Center_Y",
         "rawType": "float64",
         "type": "float"
        },
        {
         "name": "Width_Conversion",
         "rawType": "float64",
         "type": "float"
        },
        {
         "name": "Height_Conversion",
         "rawType": "float64",
         "type": "float"
        },
        {
         "name": "Id",
         "rawType": "int64",
         "type": "integer"
        }
       ],
       "conversionMethod": "pd.DataFrame",
       "ref": "ae75af3c-f0a5-4801-bb2e-ee01d5c866b0",
       "rows": [
        [
         "13",
         "2007_000063.jpg",
         "dog",
         "500.0",
         "375.0",
         "123.0",
         "379.0",
         "115.0",
         "275.0",
         "0.502",
         "0.52",
         "0.512",
         "0.4266666666666667",
         "3"
        ],
        [
         "14",
         "2007_000063.jpg",
         "chair",
         "500.0",
         "375.0",
         "75.0",
         "428.0",
         "1.0",
         "375.0",
         "0.503",
         "0.5013333333333333",
         "0.706",
         "0.9973333333333333",
         "1"
        ],
        [
         "19",
         "2007_000129.jpg",
         "bicycle",
         "334.0",
         "500.0",
         "70.0",
         "255.0",
         "202.0",
         "500.0",
         "0.4865269461077844",
         "0.702",
         "0.5538922155688623",
         "0.596",
         "13"
        ],
        [
         "20",
         "2007_000129.jpg",
         "bicycle",
         "334.0",
         "500.0",
         "251.0",
         "334.0",
         "242.0",
         "500.0",
         "0.875748502994012",
         "0.742",
         "0.24850299401197604",
         "0.516",
         "13"
        ],
        [
         "21",
         "2007_000129.jpg",
         "bicycle",
         "334.0",
         "500.0",
         "1.0",
         "67.0",
         "144.0",
         "436.0",
         "0.10179640718562874",
         "0.58",
         "0.19760479041916168",
         "0.584",
         "13"
        ]
       ],
       "shape": {
        "columns": 13,
        "rows": 5
       }
      },
      "text/html": [
       "<div>\n",
       "<style scoped>\n",
       "    .dataframe tbody tr th:only-of-type {\n",
       "        vertical-align: middle;\n",
       "    }\n",
       "\n",
       "    .dataframe tbody tr th {\n",
       "        vertical-align: top;\n",
       "    }\n",
       "\n",
       "    .dataframe thead th {\n",
       "        text-align: right;\n",
       "    }\n",
       "</style>\n",
       "<table border=\"1\" class=\"dataframe\">\n",
       "  <thead>\n",
       "    <tr style=\"text-align: right;\">\n",
       "      <th></th>\n",
       "      <th>Filename</th>\n",
       "      <th>Name</th>\n",
       "      <th>Width</th>\n",
       "      <th>Height</th>\n",
       "      <th>Xmin</th>\n",
       "      <th>Xmax</th>\n",
       "      <th>Ymin</th>\n",
       "      <th>Ymax</th>\n",
       "      <th>Center_X</th>\n",
       "      <th>Center_Y</th>\n",
       "      <th>Width_Conversion</th>\n",
       "      <th>Height_Conversion</th>\n",
       "      <th>Id</th>\n",
       "    </tr>\n",
       "  </thead>\n",
       "  <tbody>\n",
       "    <tr>\n",
       "      <th>13</th>\n",
       "      <td>2007_000063.jpg</td>\n",
       "      <td>dog</td>\n",
       "      <td>500.0</td>\n",
       "      <td>375.0</td>\n",
       "      <td>123.0</td>\n",
       "      <td>379.0</td>\n",
       "      <td>115.0</td>\n",
       "      <td>275.0</td>\n",
       "      <td>0.502000</td>\n",
       "      <td>0.520000</td>\n",
       "      <td>0.512000</td>\n",
       "      <td>0.426667</td>\n",
       "      <td>3</td>\n",
       "    </tr>\n",
       "    <tr>\n",
       "      <th>14</th>\n",
       "      <td>2007_000063.jpg</td>\n",
       "      <td>chair</td>\n",
       "      <td>500.0</td>\n",
       "      <td>375.0</td>\n",
       "      <td>75.0</td>\n",
       "      <td>428.0</td>\n",
       "      <td>1.0</td>\n",
       "      <td>375.0</td>\n",
       "      <td>0.503000</td>\n",
       "      <td>0.501333</td>\n",
       "      <td>0.706000</td>\n",
       "      <td>0.997333</td>\n",
       "      <td>1</td>\n",
       "    </tr>\n",
       "    <tr>\n",
       "      <th>19</th>\n",
       "      <td>2007_000129.jpg</td>\n",
       "      <td>bicycle</td>\n",
       "      <td>334.0</td>\n",
       "      <td>500.0</td>\n",
       "      <td>70.0</td>\n",
       "      <td>255.0</td>\n",
       "      <td>202.0</td>\n",
       "      <td>500.0</td>\n",
       "      <td>0.486527</td>\n",
       "      <td>0.702000</td>\n",
       "      <td>0.553892</td>\n",
       "      <td>0.596000</td>\n",
       "      <td>13</td>\n",
       "    </tr>\n",
       "    <tr>\n",
       "      <th>20</th>\n",
       "      <td>2007_000129.jpg</td>\n",
       "      <td>bicycle</td>\n",
       "      <td>334.0</td>\n",
       "      <td>500.0</td>\n",
       "      <td>251.0</td>\n",
       "      <td>334.0</td>\n",
       "      <td>242.0</td>\n",
       "      <td>500.0</td>\n",
       "      <td>0.875749</td>\n",
       "      <td>0.742000</td>\n",
       "      <td>0.248503</td>\n",
       "      <td>0.516000</td>\n",
       "      <td>13</td>\n",
       "    </tr>\n",
       "    <tr>\n",
       "      <th>21</th>\n",
       "      <td>2007_000129.jpg</td>\n",
       "      <td>bicycle</td>\n",
       "      <td>334.0</td>\n",
       "      <td>500.0</td>\n",
       "      <td>1.0</td>\n",
       "      <td>67.0</td>\n",
       "      <td>144.0</td>\n",
       "      <td>436.0</td>\n",
       "      <td>0.101796</td>\n",
       "      <td>0.580000</td>\n",
       "      <td>0.197605</td>\n",
       "      <td>0.584000</td>\n",
       "      <td>13</td>\n",
       "    </tr>\n",
       "  </tbody>\n",
       "</table>\n",
       "</div>"
      ],
      "text/plain": [
       "           Filename     Name  Width  Height   Xmin   Xmax   Ymin   Ymax  \\\n",
       "13  2007_000063.jpg      dog  500.0   375.0  123.0  379.0  115.0  275.0   \n",
       "14  2007_000063.jpg    chair  500.0   375.0   75.0  428.0    1.0  375.0   \n",
       "19  2007_000129.jpg  bicycle  334.0   500.0   70.0  255.0  202.0  500.0   \n",
       "20  2007_000129.jpg  bicycle  334.0   500.0  251.0  334.0  242.0  500.0   \n",
       "21  2007_000129.jpg  bicycle  334.0   500.0    1.0   67.0  144.0  436.0   \n",
       "\n",
       "    Center_X  Center_Y  Width_Conversion  Height_Conversion  Id  \n",
       "13  0.502000  0.520000          0.512000           0.426667   3  \n",
       "14  0.503000  0.501333          0.706000           0.997333   1  \n",
       "19  0.486527  0.702000          0.553892           0.596000  13  \n",
       "20  0.875749  0.742000          0.248503           0.516000  13  \n",
       "21  0.101796  0.580000          0.197605           0.584000  13  "
      ]
     },
     "execution_count": 18,
     "metadata": {},
     "output_type": "execute_result"
    }
   ],
   "source": [
    "test_df.head()"
   ]
  },
  {
   "cell_type": "markdown",
   "id": "2cb37b15",
   "metadata": {},
   "source": [
    "Save Images and Labels in text"
   ]
  },
  {
   "cell_type": "code",
   "execution_count": 19,
   "id": "c6b6af9e",
   "metadata": {},
   "outputs": [],
   "source": [
    "import os\n",
    "from shutil import move"
   ]
  },
  {
   "cell_type": "code",
   "execution_count": 20,
   "id": "8c0d25b7",
   "metadata": {},
   "outputs": [
    {
     "ename": "FileExistsError",
     "evalue": "[WinError 183] Cannot create a file when that file already exists: '1_Data_Preparation/data_images\\\\train'",
     "output_type": "error",
     "traceback": [
      "\u001b[31m---------------------------------------------------------------------------\u001b[39m",
      "\u001b[31mFileExistsError\u001b[39m                           Traceback (most recent call last)",
      "\u001b[36mCell\u001b[39m\u001b[36m \u001b[39m\u001b[32mIn[20]\u001b[39m\u001b[32m, line 6\u001b[39m\n\u001b[32m      3\u001b[39m Train_Folder = os.path.join(root_dir, \u001b[33m'\u001b[39m\u001b[33mtrain\u001b[39m\u001b[33m'\u001b[39m)\n\u001b[32m      4\u001b[39m Test_Folder = os.path.join(root_dir, \u001b[33m'\u001b[39m\u001b[33mtest\u001b[39m\u001b[33m'\u001b[39m)\n\u001b[32m----> \u001b[39m\u001b[32m6\u001b[39m \u001b[43mos\u001b[49m\u001b[43m.\u001b[49m\u001b[43mmkdir\u001b[49m\u001b[43m(\u001b[49m\u001b[43mTrain_Folder\u001b[49m\u001b[43m)\u001b[49m\n\u001b[32m      7\u001b[39m os.mkdir(Test_Folder)\n",
      "\u001b[31mFileExistsError\u001b[39m: [WinError 183] Cannot create a file when that file already exists: '1_Data_Preparation/data_images\\\\train'"
     ]
    }
   ],
   "source": [
    "root_dir = \"1_Data_Preparation/data_images\"\n",
    "\n",
    "Train_Folder = os.path.join(root_dir, 'train')\n",
    "Test_Folder = os.path.join(root_dir, 'test')\n",
    "\n",
    "os.mkdir(Train_Folder)\n",
    "os.mkdir(Test_Folder)"
   ]
  },
  {
   "cell_type": "code",
   "execution_count": null,
   "id": "d6069e51",
   "metadata": {},
   "outputs": [],
   "source": [
    "cols = ['Filename', 'Id', 'Center_X', 'Center_Y', 'Width_Conversion', 'Height_Conversion']\n",
    "groupby_obj_train = train_df[cols].groupby('Filename')\n",
    "groupby_obj_test = test_df[cols].groupby('Filename')"
   ]
  },
  {
   "cell_type": "code",
   "execution_count": null,
   "id": "79d1914b",
   "metadata": {},
   "outputs": [],
   "source": [
    "def save_data(Filename, folder_path, group_obj):\n",
    "    scr = os.path.join(root_dir, Filename)\n",
    "    dst = os.path.join(folder_path, Filename)\n",
    "    if os.path.exists(scr):\n",
    "        move(scr, dst)\n",
    "        \n",
    "        text_filename = os.path.join(folder_path, os.path.splitext(Filename)[0] + '.txt')\n",
    "        group_obj.get_group(Filename).set_index('Filename').to_csv(text_filename, sep=' ', index=False, header=False)\n",
    "    else:\n",
    "        print(f\"File not found: {scr}\")"
   ]
  },
  {
   "cell_type": "code",
   "execution_count": null,
   "id": "e8dabc52",
   "metadata": {},
   "outputs": [
    {
     "data": {
      "text/plain": [
       "0        None\n",
       "1        None\n",
       "2        None\n",
       "3        None\n",
       "4        None\n",
       "         ... \n",
       "13695    None\n",
       "13696    None\n",
       "13697    None\n",
       "13698    None\n",
       "13699    None\n",
       "Length: 13700, dtype: object"
      ]
     },
     "execution_count": 30,
     "metadata": {},
     "output_type": "execute_result"
    }
   ],
   "source": [
    "filename_series = pd.Series(groupby_obj_train.groups.keys())\n",
    "filename_series.apply(save_data, args=(Train_Folder, groupby_obj_train))"
   ]
  },
  {
   "cell_type": "code",
   "execution_count": null,
   "id": "f3d95b0e",
   "metadata": {},
   "outputs": [
    {
     "data": {
      "text/plain": [
       "0       None\n",
       "1       None\n",
       "2       None\n",
       "3       None\n",
       "4       None\n",
       "        ... \n",
       "3420    None\n",
       "3421    None\n",
       "3422    None\n",
       "3423    None\n",
       "3424    None\n",
       "Length: 3425, dtype: object"
      ]
     },
     "execution_count": 33,
     "metadata": {},
     "output_type": "execute_result"
    }
   ],
   "source": [
    "filename_series_test = pd.Series(groupby_obj_test.groups.keys())\n",
    "filename_series_test.apply(save_data, args=(Test_Folder, groupby_obj_test))"
   ]
  }
 ],
 "metadata": {
  "kernelspec": {
   "display_name": "Python 3",
   "language": "python",
   "name": "python3"
  },
  "language_info": {
   "codemirror_mode": {
    "name": "ipython",
    "version": 3
   },
   "file_extension": ".py",
   "mimetype": "text/x-python",
   "name": "python",
   "nbconvert_exporter": "python",
   "pygments_lexer": "ipython3",
   "version": "3.12.3"
  }
 },
 "nbformat": 4,
 "nbformat_minor": 5
}
